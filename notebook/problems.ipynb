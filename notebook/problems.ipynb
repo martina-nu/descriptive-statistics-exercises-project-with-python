{
    "cells": [
        {
            "cell_type": "markdown",
            "id": "ac622319",
            "metadata": {},
            "source": [
                "# Descriptive Statistics Problems"
            ]
        },
        {
            "cell_type": "markdown",
            "id": "aa8993e4",
            "metadata": {},
            "source": [
                "### Exercise 1"
            ]
        },
        {
            "cell_type": "markdown",
            "id": "5e0ab0d5",
            "metadata": {},
            "source": [
                "As right now, you are familliar with numpy, we are going to use numpy to get some data statistics.\n",
                "\n",
                "First, lets create an array of 20 elements distributed normally (Gaussian):\n",
                "\n",
                "Use the np.random.normal function to create some data, using 0,1,20 as parameters because we want a one dimentional array of 20 numbers distributed normally (Gaussian)"
            ]
        },
        {
            "cell_type": "code",
            "execution_count": 3,
            "id": "34720ab6",
            "metadata": {},
            "outputs": [
                {
                    "name": "stdout",
                    "output_type": "stream",
                    "text": [
                        "[ 1.62434536 -0.61175641 -0.52817175 -1.07296862  0.86540763 -2.3015387\n",
                        "  1.74481176 -0.7612069   0.3190391  -0.24937038  1.46210794 -2.06014071\n",
                        " -0.3224172  -0.38405435  1.13376944 -1.09989127 -0.17242821 -0.87785842\n",
                        "  0.04221375  0.58281521]\n"
                    ]
                }
            ],
            "source": [
                "#import libraries\n",
                "import numpy as np\n",
                "\n",
                "# Set seed in order to get similar results\n",
                "np.random.seed(1)\n",
                "\n",
                "# create the data\n",
                "arr = np.random.normal(0,1,20)\n",
                "\n",
                "#print results\n",
                "print(arr)"
            ]
        },
        {
            "cell_type": "code",
            "execution_count": 4,
            "id": "49c55822",
            "metadata": {},
            "outputs": [
                {
                    "data": {
                        "text/plain": [
                            "-0.1333646364607294"
                        ]
                    },
                    "execution_count": 4,
                    "metadata": {},
                    "output_type": "execute_result"
                }
            ],
            "source": [
                "#Use numpy to get the mean of your data\n",
                "\n",
                "np.mean(arr)"
            ]
        },
        {
            "cell_type": "code",
            "execution_count": 5,
            "id": "03529459",
            "metadata": {},
            "outputs": [
                {
                    "data": {
                        "text/plain": [
                            "1.209572049428708"
                        ]
                    },
                    "execution_count": 5,
                    "metadata": {},
                    "output_type": "execute_result"
                }
            ],
            "source": [
                "#get the variance of your data\n",
                "\n",
                "np.var(arr)"
            ]
        },
        {
            "cell_type": "code",
            "execution_count": 6,
            "id": "e53f30c5",
            "metadata": {},
            "outputs": [
                {
                    "data": {
                        "text/plain": [
                            "1.099805459810374"
                        ]
                    },
                    "execution_count": 6,
                    "metadata": {},
                    "output_type": "execute_result"
                }
            ],
            "source": [
                "# Standard deviation\n",
                "\n",
                "np.std(arr)\n",
                "\n"
            ]
        },
        {
            "cell_type": "code",
            "execution_count": 30,
            "id": "9bce852f",
            "metadata": {},
            "outputs": [
                {
                    "data": {
                        "text/plain": [
                            "ModeResult(mode=array([-2.3015387]), count=array([1]))"
                        ]
                    },
                    "execution_count": 30,
                    "metadata": {},
                    "output_type": "execute_result"
                }
            ],
            "source": [
                "#import libraries and print the mode\n",
                "from scipy import stats as st\n",
                "\n",
                "st.mode(arr)"
            ]
        },
        {
            "cell_type": "code",
            "execution_count": 31,
            "id": "c682cb6e",
            "metadata": {},
            "outputs": [
                {
                    "data": {
                        "text/plain": [
                            "-0.28589378974545876"
                        ]
                    },
                    "execution_count": 31,
                    "metadata": {},
                    "output_type": "execute_result"
                }
            ],
            "source": [
                "# Median\n",
                "\n",
                "np.median(arr)"
            ]
        },
        {
            "cell_type": "code",
            "execution_count": 9,
            "id": "39c3fabd",
            "metadata": {},
            "outputs": [
                {
                    "name": "stdout",
                    "output_type": "stream",
                    "text": [
                        "Q2 quantile of arr :  -0.28589378974545876\n",
                        "Q1 quantile of arr :  -0.79036978015167\n",
                        "Q3 quantile of arr :  0.6534633176180363\n",
                        "Q2 is the 50th percentile of data and is also the median: -0.28589378974545876\n"
                    ]
                }
            ],
            "source": [
                "# Print the Quantiles\n",
                "\n",
                "print(\"Q2 quantile of arr : \", np.quantile(arr, .50))\n",
                "print(\"Q1 quantile of arr : \", np.quantile(arr, .25))\n",
                "print(\"Q3 quantile of arr : \", np.quantile(arr, .75))\n",
                "\n",
                "# This match with np.median, why?\n",
                "\n",
                "print(\"Q2 is the 50th percentile of data and is also the median:\", np.median(arr))\n"
            ]
        },
        {
            "cell_type": "markdown",
            "id": "46c70c3d",
            "metadata": {},
            "source": [
                "### Exercise 2\n",
                "\n",
                "Write a Python program to calculate the standard deviation of the following data:\n",
                "```py\n",
                "data = [4, 2, 5, 8, 6]\n",
                "```"
            ]
        },
        {
            "cell_type": "code",
            "execution_count": 29,
            "id": "d590308e",
            "metadata": {},
            "outputs": [
                {
                    "name": "stdout",
                    "output_type": "stream",
                    "text": [
                        "[4, 2, 5, 8, 6]\n",
                        "Standard Deviation 2.0\n",
                        "Sample Standard Deviation 2.23606797749979\n"
                    ]
                }
            ],
            "source": [
                "import math\n",
                "import sys\n",
                "from statistics import stdev, pstdev\n",
                "\n",
                "# Define the standard deviation function\n",
                "\n",
                "def sd_calc(data):\n",
                "#code here\n",
                "\n",
                "    mean = avg_calc(data) #find mean of dataa\n",
                "    \n",
                "    # for each number subtract the Mean and square the result\n",
                "    squared_differences = []\n",
                "    for num in data:\n",
                "        squared_differences.append((num-mean)**2)\n",
                "    \n",
                "    # work out the mean of those squared differences and take the square root of that:\n",
                "    # calculate stan. dev.\n",
                "    sd = (avg_calc(squared_differences))**0.5\n",
                "\n",
                "    return sd\n",
                "\n",
                "def sample_sd_calc(data):\n",
                "#code here\n",
                "\n",
                "    mean = avg_calc(data) #find mean of data\n",
                "    \n",
                "    # for each number subtract the Mean and square the result\n",
                "    squared_differences = []\n",
                "    for num in data:\n",
                "        squared_differences.append((num-mean)**2)\n",
                "    \n",
                "    # work out the mean of those squared differences. Add up all the numbers but in this case divide by N-1\n",
                "    #  and take the square root of that:\n",
                "    num = len(squared_differences)-1\n",
                "    \n",
                "    sample_sd = (sum(squared_differences)/num)**0.5\n",
                "\n",
                "    return sample_sd\n",
                "\n",
                "\n",
                "\n",
                "\n",
                "# Define the average function\n",
                "\n",
                "def avg_calc(ls):\n",
                "    #code here\n",
                "    ls_len = len(ls)\n",
                "    ls_total = sum(ls)\n",
                "   \n",
                "    # calculate average\n",
                "    return ls_total/ls_len\n",
                "    \n",
                "    \n",
                "    \n",
                "\n",
                "data = [4, 2, 5, 8, 6]\n",
                "\n",
                "#print the data\n",
                "print(data)\n",
                "\n",
                "\n",
                "#Comparing the result of my functions with the numpy and statistics ones\n",
                "#print(\"Mean: \",avg_calc(data), np.mean(data))\n",
                "#print(\"Standard Deviation: \", sd_calc(data), np.std(data),pstdev(data))\n",
                "#print(\"Sample Standard Deviation\", sample_sd_calc(data),stdev(data))\n",
                "\n",
                "\n",
                "#print the standard deviation of the data\n",
                "\n",
                "print(\"Standard Deviation\", sd_calc(data))\n",
                "print(\"Sample Standard Deviation\", sample_sd_calc(data))\n",
                "\n",
                "\n",
                "\n"
            ]
        },
        {
            "cell_type": "markdown",
            "id": "04b71791",
            "metadata": {},
            "source": [
                "Source:\n",
                "\n",
                "https://www.w3resource.com/"
            ]
        }
    ],
    "metadata": {
        "kernelspec": {
            "display_name": "Python 3.8.13 64-bit ('3.8.13')",
            "language": "python",
            "name": "python3"
        },
        "language_info": {
            "codemirror_mode": {
                "name": "ipython",
                "version": 3
            },
            "file_extension": ".py",
            "mimetype": "text/x-python",
            "name": "python",
            "nbconvert_exporter": "python",
            "pygments_lexer": "ipython3",
            "version": "3.8.13"
        },
        "vscode": {
            "interpreter": {
                "hash": "110cc1dee26208153f2972f08a2ad52b6a56238dc66d48e87fb757ef2996db56"
            }
        }
    },
    "nbformat": 4,
    "nbformat_minor": 5
}
